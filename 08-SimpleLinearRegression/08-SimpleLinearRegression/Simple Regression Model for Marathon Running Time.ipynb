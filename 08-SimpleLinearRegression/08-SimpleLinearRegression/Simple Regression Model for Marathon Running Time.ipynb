{
 "cells": [
  {
   "cell_type": "markdown",
   "metadata": {},
   "source": [
    "# Simple Regression\n",
    "## Goal: Predicting Matathon Running Time from Age\n",
    "\n",
    "We apply simple linear regression to build a model to predict marathon running time from the runners age.\n",
    "\n",
    "First, we load all the libraries we need.\n",
    "\n",
    "## Note for Windows 10 users (Thanks to Alessandro Vetere)\n",
    "You need to apply a patch to the file font_manager.py to successfully import matplotlib http://stackoverflow.com/questions/34004063/error-on-import-matplotlib-pyplot-on-anaconda3-for-windows-10-home-64-bit-pc"
   ]
  },
  {
   "cell_type": "code",
   "execution_count": 2,
   "metadata": {
    "collapsed": false
   },
   "outputs": [],
   "source": [
    "import pandas as pd\n",
    "import numpy as np\n",
    "import matplotlib.pyplot as plt\n",
    "%matplotlib inline"
   ]
  },
  {
   "cell_type": "markdown",
   "metadata": {},
   "source": [
    "Then, we load the results from a 2016 marathon that has been previously anonymized."
   ]
  },
  {
   "cell_type": "code",
   "execution_count": 3,
   "metadata": {
    "collapsed": true
   },
   "outputs": [],
   "source": [
    "df = pd.read_excel('Marathon01.xls')"
   ]
  },
  {
   "cell_type": "markdown",
   "metadata": {},
   "source": [
    "Let's print the first ten rows"
   ]
  },
  {
   "cell_type": "code",
   "execution_count": 4,
   "metadata": {
    "collapsed": false
   },
   "outputs": [
    {
     "data": {
      "text/html": [
       "<div>\n",
       "<table border=\"1\" class=\"dataframe\">\n",
       "  <thead>\n",
       "    <tr style=\"text-align: right;\">\n",
       "      <th></th>\n",
       "      <th>Rank</th>\n",
       "      <th>Bib</th>\n",
       "      <th>LastName</th>\n",
       "      <th>FirstName</th>\n",
       "      <th>Team</th>\n",
       "      <th>Nationality</th>\n",
       "      <th>Category</th>\n",
       "      <th>PositionInCategory</th>\n",
       "      <th>PositionInGenre</th>\n",
       "      <th>OfficialTime</th>\n",
       "      <th>Delay</th>\n",
       "    </tr>\n",
       "  </thead>\n",
       "  <tbody>\n",
       "    <tr>\n",
       "      <th>0</th>\n",
       "      <td>1</td>\n",
       "      <td>3</td>\n",
       "      <td>e41a852e734c36524b4521e950e9d4f06c5758db5437bf...</td>\n",
       "      <td>4d008e38ce605d4be8f5d35eeda73183b71b6bcc0022be...</td>\n",
       "      <td>bbefcdd6b8078b50c4278bda714a7abbcaab59892b4463...</td>\n",
       "      <td>ita</td>\n",
       "      <td>SM40</td>\n",
       "      <td>1</td>\n",
       "      <td>1</td>\n",
       "      <td>2:24:00</td>\n",
       "      <td>+0:00</td>\n",
       "    </tr>\n",
       "    <tr>\n",
       "      <th>1</th>\n",
       "      <td>2</td>\n",
       "      <td>1526</td>\n",
       "      <td>398c1c567d9615aa2c8456d24ded9f37ffbab1a59db929...</td>\n",
       "      <td>c3becf83a409df2ad36b60d2792495a71a587f41b265b6...</td>\n",
       "      <td>68d326a411631cf6414f3b4b105f8d46b1ef53c8296908...</td>\n",
       "      <td>bel</td>\n",
       "      <td>SM</td>\n",
       "      <td>1</td>\n",
       "      <td>2</td>\n",
       "      <td>2:25:53</td>\n",
       "      <td>+1:53</td>\n",
       "    </tr>\n",
       "    <tr>\n",
       "      <th>2</th>\n",
       "      <td>3</td>\n",
       "      <td>7</td>\n",
       "      <td>289d400f292ec13d46bb57ca301f46ffa7663fa839b6dd...</td>\n",
       "      <td>d4bf3293b07767c458c65379e034a5b5d6baeec0bd04ff...</td>\n",
       "      <td>84cf4bb3281bd7f562125ac194aade35f69f6deae80cc9...</td>\n",
       "      <td>ita</td>\n",
       "      <td>SM</td>\n",
       "      <td>2</td>\n",
       "      <td>3</td>\n",
       "      <td>2:26:23</td>\n",
       "      <td>+2:23</td>\n",
       "    </tr>\n",
       "    <tr>\n",
       "      <th>3</th>\n",
       "      <td>4</td>\n",
       "      <td>8</td>\n",
       "      <td>9b6097201c843b9d762c1651fba184b934da494fea5234...</td>\n",
       "      <td>099bb7dd6d080a9f4a769be4fddb40d7c078a046c02dd7...</td>\n",
       "      <td>ee3808b948f189a114c3445f3b2877ebb0c17368798109...</td>\n",
       "      <td>ita</td>\n",
       "      <td>SM</td>\n",
       "      <td>3</td>\n",
       "      <td>4</td>\n",
       "      <td>2:27:07</td>\n",
       "      <td>+3:07</td>\n",
       "    </tr>\n",
       "    <tr>\n",
       "      <th>4</th>\n",
       "      <td>5</td>\n",
       "      <td>9</td>\n",
       "      <td>33df4ba3be0630d93a189a2d1574195d71ecfa9a28b390...</td>\n",
       "      <td>d887599ce44249ce921295ebbd0a5d3f9548ec20d59af6...</td>\n",
       "      <td>3244ab7102293e3e8d1f973d2d7ecf691ef461f68883b6...</td>\n",
       "      <td>ita</td>\n",
       "      <td>SM</td>\n",
       "      <td>4</td>\n",
       "      <td>5</td>\n",
       "      <td>2:28:34</td>\n",
       "      <td>+4:34</td>\n",
       "    </tr>\n",
       "    <tr>\n",
       "      <th>5</th>\n",
       "      <td>6</td>\n",
       "      <td>5</td>\n",
       "      <td>f27f2b877d7ccdf0408bbf4811162b6173523f42ccefc1...</td>\n",
       "      <td>4548376649d53baab338e043f30d638ae4ac1ef0b9547e...</td>\n",
       "      <td>1e2a3130c28c0b346651762bcacd6ed8c107f644ebc5c2...</td>\n",
       "      <td>ita</td>\n",
       "      <td>SM40</td>\n",
       "      <td>2</td>\n",
       "      <td>6</td>\n",
       "      <td>2:36:40</td>\n",
       "      <td>+12:40</td>\n",
       "    </tr>\n",
       "    <tr>\n",
       "      <th>6</th>\n",
       "      <td>7</td>\n",
       "      <td>13</td>\n",
       "      <td>012dcf7c901f4816bf0d36cf0266efc0e27593bf2f8afb...</td>\n",
       "      <td>2272bb3d111eb20706214def10eef4e5809d81dcd37550...</td>\n",
       "      <td>25deb62179cdcc3f640a56b947b2f3b10b1f515258866d...</td>\n",
       "      <td>gbr</td>\n",
       "      <td>SM35</td>\n",
       "      <td>1</td>\n",
       "      <td>7</td>\n",
       "      <td>2:37:00</td>\n",
       "      <td>+13:00</td>\n",
       "    </tr>\n",
       "    <tr>\n",
       "      <th>7</th>\n",
       "      <td>8</td>\n",
       "      <td>12</td>\n",
       "      <td>9a069e419318b028a64f73bd97780bf25571d2932f89c9...</td>\n",
       "      <td>1e03e8457083dad3ac900257cba66486c5678a4fec479f...</td>\n",
       "      <td>bfc0791a4781886c34dfcb0b3edd0f68e5ea864aa4e5be...</td>\n",
       "      <td>gbr</td>\n",
       "      <td>SM40</td>\n",
       "      <td>3</td>\n",
       "      <td>8</td>\n",
       "      <td>2:37:24</td>\n",
       "      <td>+13:24</td>\n",
       "    </tr>\n",
       "    <tr>\n",
       "      <th>8</th>\n",
       "      <td>9</td>\n",
       "      <td>1613</td>\n",
       "      <td>d56fc9c2ef412f17b92aaa1b59f4ba87bbc41920a69073...</td>\n",
       "      <td>f69628cbfe51ed629db04cea17c1d55f83d7aab3e0e9c9...</td>\n",
       "      <td>10d1738d8f853eb1cc03843eea8da6734ce415b0d73c43...</td>\n",
       "      <td>ita</td>\n",
       "      <td>SM35</td>\n",
       "      <td>2</td>\n",
       "      <td>9</td>\n",
       "      <td>2:38:28</td>\n",
       "      <td>+14:28</td>\n",
       "    </tr>\n",
       "    <tr>\n",
       "      <th>9</th>\n",
       "      <td>10</td>\n",
       "      <td>25</td>\n",
       "      <td>b227980051610a88d43dfad33c35a2026e3de4084fc0d7...</td>\n",
       "      <td>18db7beb9be2ffcf77ee247d486bc9e80467ff43ee141e...</td>\n",
       "      <td>6b6830884f7a55e47b8bda3f8688fa369458ee1fc8c214...</td>\n",
       "      <td>ita</td>\n",
       "      <td>SM45</td>\n",
       "      <td>1</td>\n",
       "      <td>10</td>\n",
       "      <td>2:38:48</td>\n",
       "      <td>+14:48</td>\n",
       "    </tr>\n",
       "  </tbody>\n",
       "</table>\n",
       "</div>"
      ],
      "text/plain": [
       "   Rank   Bib                                           LastName  \\\n",
       "0     1     3  e41a852e734c36524b4521e950e9d4f06c5758db5437bf...   \n",
       "1     2  1526  398c1c567d9615aa2c8456d24ded9f37ffbab1a59db929...   \n",
       "2     3     7  289d400f292ec13d46bb57ca301f46ffa7663fa839b6dd...   \n",
       "3     4     8  9b6097201c843b9d762c1651fba184b934da494fea5234...   \n",
       "4     5     9  33df4ba3be0630d93a189a2d1574195d71ecfa9a28b390...   \n",
       "5     6     5  f27f2b877d7ccdf0408bbf4811162b6173523f42ccefc1...   \n",
       "6     7    13  012dcf7c901f4816bf0d36cf0266efc0e27593bf2f8afb...   \n",
       "7     8    12  9a069e419318b028a64f73bd97780bf25571d2932f89c9...   \n",
       "8     9  1613  d56fc9c2ef412f17b92aaa1b59f4ba87bbc41920a69073...   \n",
       "9    10    25  b227980051610a88d43dfad33c35a2026e3de4084fc0d7...   \n",
       "\n",
       "                                           FirstName  \\\n",
       "0  4d008e38ce605d4be8f5d35eeda73183b71b6bcc0022be...   \n",
       "1  c3becf83a409df2ad36b60d2792495a71a587f41b265b6...   \n",
       "2  d4bf3293b07767c458c65379e034a5b5d6baeec0bd04ff...   \n",
       "3  099bb7dd6d080a9f4a769be4fddb40d7c078a046c02dd7...   \n",
       "4  d887599ce44249ce921295ebbd0a5d3f9548ec20d59af6...   \n",
       "5  4548376649d53baab338e043f30d638ae4ac1ef0b9547e...   \n",
       "6  2272bb3d111eb20706214def10eef4e5809d81dcd37550...   \n",
       "7  1e03e8457083dad3ac900257cba66486c5678a4fec479f...   \n",
       "8  f69628cbfe51ed629db04cea17c1d55f83d7aab3e0e9c9...   \n",
       "9  18db7beb9be2ffcf77ee247d486bc9e80467ff43ee141e...   \n",
       "\n",
       "                                                Team Nationality Category  \\\n",
       "0  bbefcdd6b8078b50c4278bda714a7abbcaab59892b4463...         ita     SM40   \n",
       "1  68d326a411631cf6414f3b4b105f8d46b1ef53c8296908...         bel       SM   \n",
       "2  84cf4bb3281bd7f562125ac194aade35f69f6deae80cc9...         ita       SM   \n",
       "3  ee3808b948f189a114c3445f3b2877ebb0c17368798109...         ita       SM   \n",
       "4  3244ab7102293e3e8d1f973d2d7ecf691ef461f68883b6...         ita       SM   \n",
       "5  1e2a3130c28c0b346651762bcacd6ed8c107f644ebc5c2...         ita     SM40   \n",
       "6  25deb62179cdcc3f640a56b947b2f3b10b1f515258866d...         gbr     SM35   \n",
       "7  bfc0791a4781886c34dfcb0b3edd0f68e5ea864aa4e5be...         gbr     SM40   \n",
       "8  10d1738d8f853eb1cc03843eea8da6734ce415b0d73c43...         ita     SM35   \n",
       "9  6b6830884f7a55e47b8bda3f8688fa369458ee1fc8c214...         ita     SM45   \n",
       "\n",
       "   PositionInCategory  PositionInGenre OfficialTime   Delay  \n",
       "0                   1                1      2:24:00   +0:00  \n",
       "1                   1                2      2:25:53   +1:53  \n",
       "2                   2                3      2:26:23   +2:23  \n",
       "3                   3                4      2:27:07   +3:07  \n",
       "4                   4                5      2:28:34   +4:34  \n",
       "5                   2                6      2:36:40  +12:40  \n",
       "6                   1                7      2:37:00  +13:00  \n",
       "7                   3                8      2:37:24  +13:24  \n",
       "8                   2                9      2:38:28  +14:28  \n",
       "9                   1               10      2:38:48  +14:48  "
      ]
     },
     "execution_count": 4,
     "metadata": {},
     "output_type": "execute_result"
    }
   ],
   "source": [
    "df.head(10)"
   ]
  },
  {
   "cell_type": "markdown",
   "metadata": {},
   "source": [
    "Let's print also the input variables, "
   ]
  },
  {
   "cell_type": "code",
   "execution_count": 5,
   "metadata": {
    "collapsed": false
   },
   "outputs": [
    {
     "data": {
      "text/plain": [
       "Index(['Rank', 'Bib', 'LastName', 'FirstName', 'Team', 'Nationality',\n",
       "       'Category', 'PositionInCategory', 'PositionInGenre', 'OfficialTime',\n",
       "       'Delay'],\n",
       "      dtype='object')"
      ]
     },
     "execution_count": 5,
     "metadata": {},
     "output_type": "execute_result"
    }
   ],
   "source": [
    "df.columns"
   ]
  },
  {
   "cell_type": "markdown",
   "metadata": {},
   "source": [
    "And the dimensions of the data "
   ]
  },
  {
   "cell_type": "code",
   "execution_count": 6,
   "metadata": {
    "collapsed": false
   },
   "outputs": [
    {
     "name": "stdout",
     "output_type": "stream",
     "text": [
      "The data set contains  1391  rows described by  11  variables\n"
     ]
    }
   ],
   "source": [
    "print(\"The data set contains \",df.shape[0],\" rows described by \",df.shape[1],\" variables\") "
   ]
  },
  {
   "cell_type": "markdown",
   "metadata": {},
   "source": [
    "We load some preprocessing functions we need to use the input variables to create more interesting variables such as,\n",
    "- extract the runner's genre and age from the FIDAL category (e.g., SM_35 becomes Male, 35)\n",
    "- the running time expressed in seconds\n",
    "- the running time expressed in hours\n",
    "- the average running speed for 1km\n",
    "- the delay in seconds from the first runner who reached the finish line\n",
    "\n",
    "And we apply all the preprocessing."
   ]
  },
  {
   "cell_type": "code",
   "execution_count": 7,
   "metadata": {
    "collapsed": true
   },
   "outputs": [],
   "source": [
    "from PreprocessRunnersStats import *\n",
    "cdf = PreprocessRunnersStats(df)"
   ]
  },
  {
   "cell_type": "markdown",
   "metadata": {},
   "source": [
    "First, we plot the raw data to get an idea of what we are dealing with."
   ]
  },
  {
   "cell_type": "code",
   "execution_count": 8,
   "metadata": {
    "collapsed": false
   },
   "outputs": [
    {
     "data": {
      "image/png": "[encoded data removed]",
      "text/plain": [
       "<matplotlib.figure.Figure at 0x112f472b0>"
      ]
     },
     "metadata": {},
     "output_type": "display_data"
    }
   ],
   "source": [
    "x = cdf['Age']\n",
    "y = cdf['TimeInHours']\n",
    "\n",
    "font = {'family' : 'sans', 'size'   : 16}\n",
    "plt.rc('font', **font)\n",
    "plt.ylim((1.75,7.25))\n",
    "plt.xlim((10,80))\n",
    "plt.xlabel(\"Age (Years)\")\n",
    "plt.ylabel(\"Final Time (Hours)\")\n",
    "plt.scatter(x, y, color='blue', marker='o', s=50)\n",
    "plt.grid()"
   ]
  },
  {
   "cell_type": "markdown",
   "metadata": {},
   "source": [
    "The points are aligned based on age groups for instance, all the data for runners between 35 and 39 appears on the same line since the marathon registration cluster runners in such classes. More information about the age categories are available at, http://www.fidal.it/content/Le-categorie-di-tesseramento-atleti/49913\n",
    "\n",
    "These points cannot be used for ordinary least square linear regression since of the same input x we have multiple outputs. So for the very first analysis we compute the average running time and try to build a model that predicts that value. For this purpose, we use a function that given the data computes several statistics."
   ]
  },
  {
   "cell_type": "code",
   "execution_count": 9,
   "metadata": {
    "collapsed": false
   },
   "outputs": [
    {
     "data": {
      "text/html": [
       "<div>\n",
       "<table border=\"1\" class=\"dataframe\">\n",
       "  <thead>\n",
       "    <tr style=\"text-align: right;\">\n",
       "      <th></th>\n",
       "      <th>Age</th>\n",
       "      <th>Average</th>\n",
       "      <th>FirstQuartile</th>\n",
       "      <th>SecondQuartile</th>\n",
       "      <th>StdDev</th>\n",
       "      <th>StdErr</th>\n",
       "      <th>ThirdQuartile</th>\n",
       "    </tr>\n",
       "  </thead>\n",
       "  <tbody>\n",
       "    <tr>\n",
       "      <th>0</th>\n",
       "      <td>20.0</td>\n",
       "      <td>3.649167</td>\n",
       "      <td>3.478889</td>\n",
       "      <td>3.709444</td>\n",
       "      <td>0.306483</td>\n",
       "      <td>0.061297</td>\n",
       "      <td>3.881111</td>\n",
       "    </tr>\n",
       "    <tr>\n",
       "      <th>1</th>\n",
       "      <td>23.0</td>\n",
       "      <td>3.737560</td>\n",
       "      <td>3.154514</td>\n",
       "      <td>3.710139</td>\n",
       "      <td>0.772945</td>\n",
       "      <td>0.004601</td>\n",
       "      <td>4.246389</td>\n",
       "    </tr>\n",
       "    <tr>\n",
       "      <th>2</th>\n",
       "      <td>35.0</td>\n",
       "      <td>3.704929</td>\n",
       "      <td>3.293889</td>\n",
       "      <td>3.607222</td>\n",
       "      <td>0.597854</td>\n",
       "      <td>0.002730</td>\n",
       "      <td>4.116250</td>\n",
       "    </tr>\n",
       "    <tr>\n",
       "      <th>3</th>\n",
       "      <td>40.0</td>\n",
       "      <td>3.792429</td>\n",
       "      <td>3.369167</td>\n",
       "      <td>3.736944</td>\n",
       "      <td>0.637603</td>\n",
       "      <td>0.002176</td>\n",
       "      <td>4.091389</td>\n",
       "    </tr>\n",
       "    <tr>\n",
       "      <th>4</th>\n",
       "      <td>45.0</td>\n",
       "      <td>3.828979</td>\n",
       "      <td>3.391042</td>\n",
       "      <td>3.690417</td>\n",
       "      <td>0.686963</td>\n",
       "      <td>0.002290</td>\n",
       "      <td>4.072986</td>\n",
       "    </tr>\n",
       "    <tr>\n",
       "      <th>5</th>\n",
       "      <td>50.0</td>\n",
       "      <td>3.899531</td>\n",
       "      <td>3.418056</td>\n",
       "      <td>3.801389</td>\n",
       "      <td>0.669697</td>\n",
       "      <td>0.003072</td>\n",
       "      <td>4.239861</td>\n",
       "    </tr>\n",
       "    <tr>\n",
       "      <th>6</th>\n",
       "      <td>55.0</td>\n",
       "      <td>4.165720</td>\n",
       "      <td>3.711667</td>\n",
       "      <td>4.018611</td>\n",
       "      <td>0.669162</td>\n",
       "      <td>0.006373</td>\n",
       "      <td>4.439167</td>\n",
       "    </tr>\n",
       "    <tr>\n",
       "      <th>7</th>\n",
       "      <td>60.0</td>\n",
       "      <td>4.335983</td>\n",
       "      <td>3.927639</td>\n",
       "      <td>4.241250</td>\n",
       "      <td>0.668317</td>\n",
       "      <td>0.013366</td>\n",
       "      <td>4.572292</td>\n",
       "    </tr>\n",
       "    <tr>\n",
       "      <th>8</th>\n",
       "      <td>65.0</td>\n",
       "      <td>4.589287</td>\n",
       "      <td>4.086111</td>\n",
       "      <td>4.488333</td>\n",
       "      <td>0.705645</td>\n",
       "      <td>0.030680</td>\n",
       "      <td>4.802500</td>\n",
       "    </tr>\n",
       "    <tr>\n",
       "      <th>9</th>\n",
       "      <td>70.0</td>\n",
       "      <td>4.914603</td>\n",
       "      <td>4.487361</td>\n",
       "      <td>4.915278</td>\n",
       "      <td>0.747131</td>\n",
       "      <td>0.106733</td>\n",
       "      <td>5.361528</td>\n",
       "    </tr>\n",
       "    <tr>\n",
       "      <th>10</th>\n",
       "      <td>75.0</td>\n",
       "      <td>4.950093</td>\n",
       "      <td>4.760972</td>\n",
       "      <td>4.991111</td>\n",
       "      <td>0.326867</td>\n",
       "      <td>0.108956</td>\n",
       "      <td>5.159722</td>\n",
       "    </tr>\n",
       "  </tbody>\n",
       "</table>\n",
       "</div>"
      ],
      "text/plain": [
       "     Age   Average  FirstQuartile  SecondQuartile    StdDev    StdErr  \\\n",
       "0   20.0  3.649167       3.478889        3.709444  0.306483  0.061297   \n",
       "1   23.0  3.737560       3.154514        3.710139  0.772945  0.004601   \n",
       "2   35.0  3.704929       3.293889        3.607222  0.597854  0.002730   \n",
       "3   40.0  3.792429       3.369167        3.736944  0.637603  0.002176   \n",
       "4   45.0  3.828979       3.391042        3.690417  0.686963  0.002290   \n",
       "5   50.0  3.899531       3.418056        3.801389  0.669697  0.003072   \n",
       "6   55.0  4.165720       3.711667        4.018611  0.669162  0.006373   \n",
       "7   60.0  4.335983       3.927639        4.241250  0.668317  0.013366   \n",
       "8   65.0  4.589287       4.086111        4.488333  0.705645  0.030680   \n",
       "9   70.0  4.914603       4.487361        4.915278  0.747131  0.106733   \n",
       "10  75.0  4.950093       4.760972        4.991111  0.326867  0.108956   \n",
       "\n",
       "    ThirdQuartile  \n",
       "0        3.881111  \n",
       "1        4.246389  \n",
       "2        4.116250  \n",
       "3        4.091389  \n",
       "4        4.072986  \n",
       "5        4.239861  \n",
       "6        4.439167  \n",
       "7        4.572292  \n",
       "8        4.802500  \n",
       "9        5.361528  \n",
       "10       5.159722  "
      ]
     },
     "execution_count": 9,
     "metadata": {},
     "output_type": "execute_result"
    }
   ],
   "source": [
    "qdf = ComputeStats(cdf,'TimeInHours')\n",
    "qdf"
   ]
  },
  {
   "cell_type": "markdown",
   "metadata": {},
   "source": [
    "Let's plot the average running time."
   ]
  },
  {
   "cell_type": "code",
   "execution_count": 10,
   "metadata": {
    "collapsed": false
   },
   "outputs": [
    {
     "data": {
      "image/png": "[encoded data removed]",
      "text/plain": [
       "<matplotlib.figure.Figure at 0x112f471d0>"
      ]
     },
     "metadata": {},
     "output_type": "display_data"
    }
   ],
   "source": [
    "x = qdf['Age']\n",
    "y = qdf['Average']\n",
    "\n",
    "font = {'family' : 'sans', 'size'   : 16}\n",
    "plt.rc('font', **font)\n",
    "plt.ylim((1.75,7.25))\n",
    "plt.xlim((10,80))\n",
    "plt.xlabel(\"Age (Years)\")\n",
    "plt.ylabel(\"Average Running Time (Hours)\")\n",
    "plt.scatter(x, y, color='blue', marker='o', s=50)\n",
    "plt.grid()"
   ]
  },
  {
   "cell_type": "markdown",
   "metadata": {},
   "source": [
    "We now build a simple regression model using least squares and plot it."
   ]
  },
  {
   "cell_type": "code",
   "execution_count": 31,
   "metadata": {
    "collapsed": false
   },
   "outputs": [],
   "source": [
    "from sklearn import linear_model\n",
    "\n",
    "x1 = np.array(qdf['Age'])\n",
    "y1 = qdf['Average']\n",
    "\n",
    "# needed by the new scikit-learn version\n",
    "x1 = x1.reshape(-1,1)\n",
    "\n",
    "# build the regression model using basic least squares\n",
    "regr = linear_model.LinearRegression()\n",
    "regr.fit(x1, y1)\n",
    "\n",
    "# predicted y\n",
    "yp = regr.predict(x1)\n",
    "\n",
    "rss = round(sum((y1-yp)**2),3)"
   ]
  },
  {
   "cell_type": "code",
   "execution_count": 36,
   "metadata": {
    "collapsed": false,
    "scrolled": true
   },
   "outputs": [
    {
     "data": {
      "text/plain": [
       "<matplotlib.text.Text at 0x1134e9be0>"
      ]
     },
     "execution_count": 36,
     "metadata": {},
     "output_type": "execute_result"
    },
    {
     "data": {
      "image/png": "[encoded data removed]",
      "text/plain": [
       "<matplotlib.figure.Figure at 0x113fe2630>"
      ]
     },
     "metadata": {},
     "output_type": "display_data"
    }
   ],
   "source": [
    "x = qdf['Age']\n",
    "y = qdf['Average']\n",
    "\n",
    "font = {'family' : 'sans', 'size'   : 16}\n",
    "plt.rc('font', **font)\n",
    "plt.ylim((1.75,7.25))\n",
    "plt.xlim((10,80))\n",
    "plt.xlabel(\"Age (Years)\")\n",
    "plt.ylabel(\"Average Running Time (Hours)\")\n",
    "plt.scatter(x, y, color='blue', marker='o', s=50)\n",
    "plt.plot(x1,yp, color='red',linewidth=3)\n",
    "plt.grid()\n",
    "\n",
    "coeff = round(regr.coef_[0],3)\n",
    "intercept = round(regr.intercept_,3)\n",
    "\n",
    "eq = \"Time = \" + str(intercept)\n",
    "if (coeff>0):\n",
    "    eq = eq + \" + \"\n",
    "eq = eq + str(coeff)+\"*Age\"\n",
    "plt.title (eq)\n",
    "\n",
    "\n",
    "\n"
   ]
  },
  {
   "cell_type": "markdown",
   "metadata": {},
   "source": [
    "## Questions\n",
    "- What is the practical meaning of the intercept?\n",
    "- What is the practical meaning of the coefficient?\n",
    "- Do you foresee any issue about these two terms?"
   ]
  },
  {
   "cell_type": "markdown",
   "metadata": {},
   "source": [
    "## Enriching Data with Domain Knowledge\n",
    "We know that the age categories group together people of different ages. For example, SM_35 is associated to males between the are of 35 and 40 excluded. Thus, the data we plotted at the beginning are not a correct representation of our data. We can insert what we know about the age groups to the training data. We modify the age of individuals by randomly generating an age from the corresponding interval. For instance, we substitute an age of 35 with a random age selected between 35 and 40 (excluded)."
   ]
  },
  {
   "cell_type": "code",
   "execution_count": 13,
   "metadata": {
    "collapsed": false
   },
   "outputs": [],
   "source": [
    "import random \n",
    "\n",
    "def JitterAge(age):\n",
    "    if (age>=35):\n",
    "        return age + random.uniform(0,5)\n",
    "    if (age==20):\n",
    "        return age + random.uniform(0,2)\n",
    "    if (age==23):\n",
    "        return age + random.uniform(0,12)\n",
    "\n",
    "jdf = cdf\n",
    "jdf['Age'] = cdf['Age'].apply(JitterAge)"
   ]
  },
  {
   "cell_type": "code",
   "execution_count": 14,
   "metadata": {
    "collapsed": false
   },
   "outputs": [
    {
     "data": {
      "image/png": "[encoded data removed]",
      "text/plain": [
       "<matplotlib.figure.Figure at 0x1134fd2e8>"
      ]
     },
     "metadata": {},
     "output_type": "display_data"
    }
   ],
   "source": [
    "x = jdf['Age']\n",
    "y = jdf['TimeInHours']\n",
    "\n",
    "font = {'family' : 'sans', 'size'   : 16}\n",
    "plt.rc('font', **font)\n",
    "plt.ylim((1.75,7.25))\n",
    "plt.xlim((10,80))\n",
    "plt.xlabel(\"Age (Years)\")\n",
    "plt.ylabel(\"Final Time (Hours)\")\n",
    "plt.scatter(x, y, color='blue', marker='o', s=50)\n",
    "plt.grid()"
   ]
  },
  {
   "cell_type": "code",
   "execution_count": 33,
   "metadata": {
    "collapsed": false
   },
   "outputs": [],
   "source": [
    "from sklearn import linear_model\n",
    "\n",
    "x2 = jdf['Age']\n",
    "y2 = jdf['TimeInHours']\n",
    "\n",
    "# needed by the new scikit-learn version\n",
    "x2 = x2.values.reshape(-1,1)\n",
    "\n",
    "# build the regression model using basic least squares\n",
    "regr = linear_model.LinearRegression()\n",
    "regr.fit(x2, y2)\n",
    "\n",
    "# predicted y\n",
    "jittered_prediction = regr.predict(x2)\n"
   ]
  },
  {
   "cell_type": "code",
   "execution_count": 35,
   "metadata": {
    "collapsed": false
   },
   "outputs": [
    {
     "data": {
      "text/plain": [
       "<matplotlib.text.Text at 0x113f41320>"
      ]
     },
     "execution_count": 35,
     "metadata": {},
     "output_type": "execute_result"
    },
    {
     "data": {
      "image/png": "[encoded data removed]",
      "text/plain": [
       "<matplotlib.figure.Figure at 0x113eb2c18>"
      ]
     },
     "metadata": {},
     "output_type": "display_data"
    }
   ],
   "source": [
    "font = {'family' : 'sans', 'size'   : 16}\n",
    "plt.rc('font', **font)\n",
    "plt.ylim((1.75,7.25))\n",
    "plt.xlim((10,80))\n",
    "plt.xlabel(\"Age (Years)\")\n",
    "plt.ylabel(\"Final Time (Hours)\")\n",
    "plt.scatter(x2, y2, color='blue', marker='o', s=50)\n",
    "plt.plot(x2,jittered_prediction, color='red',linewidth=3)\n",
    "plt.grid()\n",
    "\n",
    "coeff = round(regr.coef_[0],3)\n",
    "intercept = round(regr.intercept_,3)\n",
    "\n",
    "eq = \"Time = \" + str(intercept)\n",
    "if (coeff>0):\n",
    "    eq = eq + \" + \"\n",
    "eq = eq + str(coeff)+\"*Age\"\n",
    "\n",
    "plt.title (eq)\n",
    "\n",
    "\n"
   ]
  },
  {
   "cell_type": "code",
   "execution_count": null,
   "metadata": {
    "collapsed": true
   },
   "outputs": [],
   "source": []
  }
 ],
 "metadata": {
  "kernelspec": {
   "display_name": "Python 3",
   "language": "python",
   "name": "python3"
  },
  "language_info": {
   "codemirror_mode": {
    "name": "ipython",
    "version": 3
   },
   "file_extension": ".py",
   "mimetype": "text/x-python",
   "name": "python",
   "nbconvert_exporter": "python",
   "pygments_lexer": "ipython3",
   "version": "3.6.0"
  }
 },
 "nbformat": 4,
 "nbformat_minor": 0
}
